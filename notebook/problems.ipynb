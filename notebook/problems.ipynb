{
    "cells": [
        {
            "cell_type": "markdown",
            "id": "ac622319",
            "metadata": {},
            "source": [
                "# Descriptive statistics problems"
            ]
        },
        {
            "cell_type": "markdown",
            "id": "aa8993e4",
            "metadata": {},
            "source": [
                "### Exercise 1"
            ]
        },
        {
            "cell_type": "markdown",
            "id": "5e0ab0d5",
            "metadata": {},
            "source": [
                "We will use Numpy to obtain information to describe statistically.\n",
                "\n",
                "- Generate an array of 100 elements following a normal distribution.\n",
                "- Generate an array of 100 elements following a chi-square distribution with 3 degrees of freedom.\n",
                "- Calculate the main metrics and statistical measures that best describe the two vectors."
            ]
        },
        {
            "cell_type": "code",
            "execution_count": 12,
            "id": "34720ab6",
            "metadata": {},
            "outputs": [
                {
                    "name": "stdout",
                    "output_type": "stream",
                    "text": [
                        "Normal vector: [ 0.80352282 -1.29120476 -1.87387263  1.21276102  0.42989143  0.39582421\n",
                        " -0.64266086  0.10161249  0.81855416  1.48294427  0.52815751 -0.04422652\n",
                        "  0.111356   -1.27787734 -1.59577512 -1.85764113  0.19889558  2.2437386\n",
                        "  1.11818828 -1.14655105 -0.1618111   1.56399461  1.12292164 -1.62720263\n",
                        "  0.89515903 -0.6061872  -1.23408679  0.41540582  0.80120556  0.83661511\n",
                        " -2.07194493  1.58254264 -0.39360413 -0.14832433 -1.37084369  1.02002217\n",
                        "  0.97461425  0.93219743  0.03520075 -0.24278173  0.68589703  0.77020607\n",
                        "  0.78837773 -0.31189006 -0.46379677  2.49505061  1.11565633  2.12831765\n",
                        " -1.58088539  1.39876214 -0.26439631 -0.76286487 -1.01128096  0.07375462\n",
                        " -0.03492215  1.28480016  0.91420188  0.10461523 -1.61399723 -2.0826401\n",
                        "  1.08425509  1.93187124 -0.10984781  0.10418557 -0.40741815 -1.11651855\n",
                        "  1.27639903  0.57759    -0.10413119 -0.64196309 -0.27405706  0.73897033\n",
                        "  0.20856763  0.01793724  1.08555621  0.55297395 -1.64188795 -0.03122214\n",
                        "  0.91589648 -0.4332313   0.93094426  1.44041277  0.6343863  -0.79013331\n",
                        "  0.78906024 -0.11548069  0.66461567 -0.01263222 -1.33704584  0.40590655\n",
                        " -0.59263328  0.02119554 -1.33913494  0.21842321 -1.20103028  0.89305661\n",
                        "  0.58059755 -0.21890335  0.00266375  0.0509818 ]\n",
                        "Chi-square vector: [2.85909077 1.11862993 3.08728139 1.39702563 0.8143394  5.1353622\n",
                        " 0.63327291 1.52195445 4.26998888 2.18967227 1.56960967 6.1163344\n",
                        " 3.33529103 8.38804437 1.6031262  3.14135891 0.18478776 2.53945091\n",
                        " 0.63724251 1.68411949 6.19857173 4.90324658 2.40561114 2.14380889\n",
                        " 0.98337038 9.1652753  1.59317481 1.93301818 2.78832587 1.60483701\n",
                        " 0.65862256 2.18526581 0.68995438 3.73545751 0.66076815 8.9828501\n",
                        " 4.25920421 4.49935421 2.9454459  2.93821366 0.80293697 6.5639304\n",
                        " 8.5583133  3.97843091 0.70163839 4.38611666 1.22029034 6.24113807\n",
                        " 4.34864165 4.45328058 3.48205503 9.4847426  4.55338002 0.50719265\n",
                        " 2.99156422 1.72368845 3.69648814 0.23169945 1.09617425 2.64827793\n",
                        " 4.15115811 2.48021568 4.63879344 0.08163526 1.21569011 1.84741881\n",
                        " 2.9855172  1.66012535 7.94986857 2.47253446 0.29034237 2.78931638\n",
                        " 5.64629539 0.76553999 1.96550058 4.4193566  0.90655989 2.02620615\n",
                        " 1.19291016 1.70260856 2.26722761 2.96731328 3.332218   1.83961655\n",
                        " 2.9718129  0.19446477 1.56793009 1.17381716 4.67346329 2.54500723\n",
                        " 0.6356225  7.65172186 4.30152765 0.85174169 0.95249711 1.35613237\n",
                        " 2.61298304 0.82352072 0.28680141 5.44901843]\n",
                        "Normal mean : 0.10430870930883998\n",
                        "Chi mean:2.888123701606593\n",
                        "Normal median : 0.1028990298316349\n",
                        "Chi median: 2.439072799415111\n",
                        "Normal mode: 0.8035228244536202\n",
                        "Chi mode: 2.8590907743870555\n",
                        "Normal range: 4.577690706696103\n",
                        "Normal chi: 9.403107344875911\n",
                        "Normal variance: 1.0480608734826804 and std: 1.0237484424811987\n",
                        "Chi variance: 4.990425234299725 and std: 2.2339259688493986\n",
                        "Normal skewness: -0.1917067775858875\n",
                        "Chi skewness: 1.157732206037822\n",
                        "Normal kurtosis: -0.4753676623975367\n",
                        "Chi kurtosis: 0.8684187528021319\n"
                    ]
                }
            ],
            "source": [
                "# TODO\n",
                "import numpy as np\n",
                "\n",
                "\n",
                "normal = np.random.normal(size = 100)\n",
                "chi = np.random.chisquare(3, 100)\n",
                "\n",
                "print(f\"Normal vector: {normal}\")\n",
                "print(f\"Chi-square vector: {chi}\")\n",
                "\n",
                "# Mean\n",
                "import statistics as stats\n",
                "\n",
                "print(f'Normal mean : {stats.mean(normal)}')\n",
                "print(f'Chi mean:{stats.mean(chi)}')\n",
                "\n",
                "# Median\n",
                "print(f'Normal median : {stats.median(normal)}')\n",
                "print(f\"Chi median: {stats.median(chi)}\")\n",
                "\n",
                "# Mode\n",
                "print(f\"Normal mode: {stats.mode(normal)}\")\n",
                "print(f\"Chi mode: {stats.mode(chi)}\")\n",
                "\n",
                "# Range\n",
                "range_normal = max(normal) - min(normal)\n",
                "range_chi = max(chi) - min(chi)\n",
                "print(f\"Normal range: {range_normal}\")\n",
                "print(f\"Normal chi: {range_chi}\")\n",
                "\n",
                "# Variance and standard deviation\n",
                "var_normal = stats.variance(normal)\n",
                "std_normal = stats.stdev(normal)\n",
                "var_chi = stats.variance(chi)\n",
                "std_chi = stats.stdev(chi)\n",
                "\n",
                "print(f\"Normal variance: {var_normal} and std: {std_normal}\")\n",
                "print(f\"Chi variance: {var_chi} and std: {std_chi}\")\n",
                "\n",
                "# Skewness\n",
                "\n",
                "from scipy.stats import skew\n",
                "\n",
                "skew_normal = skew(normal)\n",
                "skew_chi = skew(chi)\n",
                "\n",
                "print(f\"Normal skewness: {skew_normal}\")\n",
                "print(f\"Chi skewness: {skew_chi}\")\n",
                "\n",
                "# Kurtosis\n",
                "from scipy.stats import kurtosis\n",
                "\n",
                "kurt_normal = kurtosis(normal)\n",
                "kurt_chi = kurtosis(chi)\n",
                "\n",
                "print(f\"Normal kurtosis: {kurt_normal}\")\n",
                "print(f\"Chi kurtosis: {kurt_chi}\")\n",
                "\n",
                "\n",
                "\n",
                "\n",
                "\n"
            ]
        },
        {
            "cell_type": "markdown",
            "id": "46c70c3d",
            "metadata": {},
            "source": [
                "### Exercise 2\n",
                "\n",
                "Write a Python program to calculate the standard deviation of the following data:\n",
                "\n",
                "```py\n",
                "data = [4, 2, 5, 8, 6]\n",
                "```"
            ]
        },
        {
            "cell_type": "code",
            "execution_count": 22,
            "id": "d590308e",
            "metadata": {},
            "outputs": [
                {
                    "name": "stdout",
                    "output_type": "stream",
                    "text": [
                        "Varianza: 5\n",
                        "Desviación estándar: 2.23606797749979\n",
                        "Varianza: 5.0\n",
                        "Desviación estándar: 2.23606797749979\n"
                    ]
                }
            ],
            "source": [
                "# TODO\n",
                "import statistics as stats\n",
                "\n",
                "data = [4, 2, 5, 8, 6]\n",
                "\n",
                "variance = stats.variance(data)\n",
                "std = stats.stdev(data)\n",
                "\n",
                "print(f\"Varianza: {variance}\")\n",
                "print(f\"Desviación estándar: {std}\")\n",
                "\n",
                "#Otra forma de hacerlo \n",
                "\n",
                "def calcular_estadisticas_manual(data):\n",
                "    n = len(data)\n",
                "    media = sum(data) / n\n",
                "    variance = sum((x - media) ** 2 for x in data) / (n-1)\n",
                "    std_dev = variance ** 0.5\n",
                "    return variance, std_dev\n",
                "\n",
                "datos = [4, 2, 5, 8, 6]\n",
                "\n",
                "varianza, desv_estandar = calcular_estadisticas_manual(datos)\n",
                "\n",
                "print(f\"Varianza: {varianza}\")\n",
                "print(f\"Desviación estándar: {desv_estandar}\")\n",
                "\n"
            ]
        }
    ],
    "metadata": {
        "interpreter": {
            "hash": "9248718ffe6ce6938b217e69dbcc175ea21f4c6b28a317e96c05334edae734bb"
        },
        "kernelspec": {
            "display_name": "Python 3.9.12 ('ML-BOOTCAMP')",
            "language": "python",
            "name": "python3"
        },
        "language_info": {
            "codemirror_mode": {
                "name": "ipython",
                "version": 3
            },
            "file_extension": ".py",
            "mimetype": "text/x-python",
            "name": "python",
            "nbconvert_exporter": "python",
            "pygments_lexer": "ipython3",
            "version": "3.11.4"
        }
    },
    "nbformat": 4,
    "nbformat_minor": 5
}
